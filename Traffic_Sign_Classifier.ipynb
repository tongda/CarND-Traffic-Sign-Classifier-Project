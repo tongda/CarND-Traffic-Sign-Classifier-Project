{
 "cells": [
  {
   "cell_type": "markdown",
   "metadata": {
    "deletable": true,
    "editable": true
   },
   "source": [
    "# Self-Driving Car Engineer Nanodegree\n",
    "\n",
    "## Deep Learning\n",
    "\n",
    "## Project: Build a Traffic Sign Recognition Classifier\n",
    "\n",
    "In this notebook, a template is provided for you to implement your functionality in stages, which is required to successfully complete this project. If additional code is required that cannot be included in the notebook, be sure that the Python code is successfully imported and included in your submission if necessary. \n",
    "\n",
    "> **Note**: Once you have completed all of the code implementations, you need to finalize your work by exporting the iPython Notebook as an HTML document. Before exporting the notebook to html, all of the code cells need to have been run so that reviewers can see the final implementation and output. You can then export the notebook by using the menu above and navigating to  \\n\",\n",
    "    \"**File -> Download as -> HTML (.html)**. Include the finished document along with this notebook as your submission. \n",
    "\n",
    "In addition to implementing code, there is a writeup to complete. The writeup should be completed in a separate file, which can be either a markdown file or a pdf document. There is a [write up template](https://github.com/udacity/CarND-Traffic-Sign-Classifier-Project/blob/master/writeup_template.md) that can be used to guide the writing process. Completing the code template and writeup template will cover all of the [rubric points](https://review.udacity.com/#!/rubrics/481/view) for this project.\n",
    "\n",
    "The [rubric](https://review.udacity.com/#!/rubrics/481/view) contains \"Stand Out Suggestions\" for enhancing the project beyond the minimum requirements. The stand out suggestions are optional. If you decide to pursue the \"stand out suggestions\", you can include the code in this Ipython notebook and also discuss the results in the writeup file.\n",
    "\n",
    "\n",
    ">**Note:** Code and Markdown cells can be executed using the **Shift + Enter** keyboard shortcut. In addition, Markdown cells can be edited by typically double-clicking the cell to enter edit mode."
   ]
  },
  {
   "cell_type": "markdown",
   "metadata": {
    "deletable": true,
    "editable": true
   },
   "source": [
    "---\n",
    "## Step 0: Load The Data"
   ]
  },
  {
   "cell_type": "code",
   "execution_count": 1,
   "metadata": {
    "collapsed": false,
    "deletable": true,
    "editable": true
   },
   "outputs": [],
   "source": [
    "# Load pickled data\n",
    "import pickle\n",
    "\n",
    "# TODO: Fill this in based on where you saved the training and testing data\n",
    "\n",
    "training_file = './traffic-signs-data/train.p'\n",
    "validation_file= './traffic-signs-data/valid.p'\n",
    "testing_file = './traffic-signs-data/test.p'\n",
    "\n",
    "with open(training_file, mode='rb') as f:\n",
    "    train = pickle.load(f)\n",
    "with open(validation_file, mode='rb') as f:\n",
    "    valid = pickle.load(f)\n",
    "with open(testing_file, mode='rb') as f:\n",
    "    test = pickle.load(f)\n",
    "    \n",
    "X_train, y_train = train['features'], train['labels']\n",
    "X_valid, y_valid = valid['features'], valid['labels']\n",
    "X_test, y_test = test['features'], test['labels']"
   ]
  },
  {
   "cell_type": "markdown",
   "metadata": {
    "deletable": true,
    "editable": true
   },
   "source": [
    "---\n",
    "\n",
    "## Step 1: Dataset Summary & Exploration\n",
    "\n",
    "The pickled data is a dictionary with 4 key/value pairs:\n",
    "\n",
    "- `'features'` is a 4D array containing raw pixel data of the traffic sign images, (num examples, width, height, channels).\n",
    "- `'labels'` is a 1D array containing the label/class id of the traffic sign. The file `signnames.csv` contains id -> name mappings for each id.\n",
    "- `'sizes'` is a list containing tuples, (width, height) representing the the original width and height the image.\n",
    "- `'coords'` is a list containing tuples, (x1, y1, x2, y2) representing coordinates of a bounding box around the sign in the image. **THESE COORDINATES ASSUME THE ORIGINAL IMAGE. THE PICKLED DATA CONTAINS RESIZED VERSIONS (32 by 32) OF THESE IMAGES**\n",
    "\n",
    "Complete the basic data summary below. Use python, numpy and/or pandas methods to calculate the data summary rather than hard coding the results. For example, the [pandas shape method](http://pandas.pydata.org/pandas-docs/stable/generated/pandas.DataFrame.shape.html) might be useful for calculating some of the summary results. "
   ]
  },
  {
   "cell_type": "markdown",
   "metadata": {
    "deletable": true,
    "editable": true
   },
   "source": [
    "### Provide a Basic Summary of the Data Set Using Python, Numpy and/or Pandas"
   ]
  },
  {
   "cell_type": "code",
   "execution_count": 2,
   "metadata": {
    "collapsed": false,
    "deletable": true,
    "editable": true
   },
   "outputs": [
    {
     "name": "stdout",
     "output_type": "stream",
     "text": [
      "Number of training examples = 34799\n",
      "Number of testing examples = 12630\n",
      "Image data shape = (32, 32, 3)\n",
      "Number of classes = 43\n"
     ]
    }
   ],
   "source": [
    "### Replace each question mark with the appropriate value. \n",
    "### Use python, pandas or numpy methods rather than hard coding the results\n",
    "\n",
    "# TODO: Number of training examples\n",
    "n_train = X_train.shape[0]\n",
    "\n",
    "# TODO: Number of testing examples.\n",
    "n_test = X_test.shape[0]\n",
    "\n",
    "# TODO: What's the shape of an traffic sign image?\n",
    "image_shape = X_train[0].shape\n",
    "\n",
    "# TODO: How many unique classes/labels there are in the dataset.\n",
    "n_classes = len(set(y_train))\n",
    "\n",
    "print(\"Number of training examples =\", n_train)\n",
    "print(\"Number of testing examples =\", n_test)\n",
    "print(\"Image data shape =\", image_shape)\n",
    "print(\"Number of classes =\", n_classes)"
   ]
  },
  {
   "cell_type": "markdown",
   "metadata": {
    "deletable": true,
    "editable": true
   },
   "source": [
    "### Include an exploratory visualization of the dataset"
   ]
  },
  {
   "cell_type": "markdown",
   "metadata": {
    "deletable": true,
    "editable": true
   },
   "source": [
    "Visualize the German Traffic Signs Dataset using the pickled file(s). This is open ended, suggestions include: plotting traffic sign images, plotting the count of each sign, etc.\n",
    "\n",
    "The [Matplotlib](http://matplotlib.org/) [examples](http://matplotlib.org/examples/index.html) and [gallery](http://matplotlib.org/gallery.html) pages are a great resource for doing visualizations in Python.\n",
    "\n",
    "**NOTE:** It's recommended you start with something simple first. If you wish to do more, come back to it after you've completed the rest of the sections."
   ]
  },
  {
   "cell_type": "code",
   "execution_count": 3,
   "metadata": {
    "collapsed": true,
    "deletable": true,
    "editable": true
   },
   "outputs": [],
   "source": [
    "### Data exploration visualization code goes here.\n",
    "### Feel free to use as many code cells as needed.\n",
    "import matplotlib.pyplot as plt\n",
    "# Visualizations will be shown in the notebook.\n",
    "%matplotlib inline"
   ]
  },
  {
   "cell_type": "markdown",
   "metadata": {
    "deletable": true,
    "editable": true
   },
   "source": [
    "----\n",
    "\n",
    "## Step 2: Design and Test a Model Architecture\n",
    "\n",
    "Design and implement a deep learning model that learns to recognize traffic signs. Train and test your model on the [German Traffic Sign Dataset](http://benchmark.ini.rub.de/?section=gtsrb&subsection=dataset).\n",
    "\n",
    "There are various aspects to consider when thinking about this problem:\n",
    "\n",
    "- Neural network architecture\n",
    "- Play around preprocessing techniques (normalization, rgb to grayscale, etc)\n",
    "- Number of examples per label (some have more than others).\n",
    "- Generate fake data.\n",
    "\n",
    "Here is an example of a [published baseline model on this problem](http://yann.lecun.com/exdb/publis/pdf/sermanet-ijcnn-11.pdf). It's not required to be familiar with the approach used in the paper but, it's good practice to try to read papers like these.\n",
    "\n",
    "**NOTE:** The LeNet-5 implementation shown in the [classroom](https://classroom.udacity.com/nanodegrees/nd013/parts/fbf77062-5703-404e-b60c-95b78b2f3f9e/modules/6df7ae49-c61c-4bb2-a23e-6527e69209ec/lessons/601ae704-1035-4287-8b11-e2c2716217ad/concepts/d4aca031-508f-4e0b-b493-e7b706120f81) at the end of the CNN lesson is a solid starting point. You'll have to change the number of classes and possibly the preprocessing, but aside from that it's plug and play!"
   ]
  },
  {
   "cell_type": "markdown",
   "metadata": {
    "deletable": true,
    "editable": true
   },
   "source": [
    "### Pre-process the Data Set (normalization, grayscale, etc.)"
   ]
  },
  {
   "cell_type": "markdown",
   "metadata": {
    "deletable": true,
    "editable": true
   },
   "source": [
    "Use the code cell (or multiple code cells, if necessary) to implement the first step of your project."
   ]
  },
  {
   "cell_type": "code",
   "execution_count": 4,
   "metadata": {
    "collapsed": false,
    "deletable": true,
    "editable": true
   },
   "outputs": [
    {
     "name": "stdout",
     "output_type": "stream",
     "text": [
      "41\n"
     ]
    },
    {
     "data": {
      "text/plain": [
       "<matplotlib.image.AxesImage at 0x7ff7aac43668>"
      ]
     },
     "execution_count": 4,
     "metadata": {},
     "output_type": "execute_result"
    },
    {
     "data": {
      "image/png": "[encoded data removed]",
      "text/plain": [
       "<matplotlib.figure.Figure at 0x7ff7ad498e80>"
      ]
     },
     "metadata": {},
     "output_type": "display_data"
    }
   ],
   "source": [
    "### Preprocess the data here. Preprocessing steps could include normalization, converting to grayscale, etc.\n",
    "### Feel free to use as many code cells as needed.\n",
    "print(y_train[150])\n",
    "\n",
    "plt.figure(1)\n",
    "plt.imshow(X_train[150])"
   ]
  },
  {
   "cell_type": "code",
   "execution_count": 5,
   "metadata": {
    "collapsed": false
   },
   "outputs": [
    {
     "name": "stdout",
     "output_type": "stream",
     "text": [
      "Mean:  [ 86.69812205  79.49594061  81.83870445  81.90779813]\n",
      "Std:  [ 69.28387882  66.26993615  67.76634548  66.12725089]\n",
      "Normalized Mean:  [  7.49232908e-13  -4.20496332e-13   6.72432958e-14  -5.48547428e-12]\n",
      "Normalized Std:  [ 1.  1.  1.  1.]\n",
      "Mean:  [ 87.29950663  80.39230863  82.97746687  82.74353892]\n",
      "Std:  [ 70.75482467  68.36359299  70.34695149  68.05172671]\n",
      "Normalized Mean:  [ -2.57508085e-13  -8.53750424e-14  -6.10784958e-13   6.12820325e-14]\n",
      "Normalized Std:  [ 1.  1.  1.  1.]\n",
      "Mean:  [ 85.91491813  78.83244012  81.69802283  81.26818598]\n",
      "Std:  [ 69.47602748  67.04509675  69.49748921  66.73526917]\n",
      "Normalized Mean:  [  9.26439122e-14   7.75985303e-14   7.33438224e-14   1.23499764e-11]\n",
      "Normalized Std:  [ 1.  1.  1.  1.]\n"
     ]
    }
   ],
   "source": [
    "import numpy as np\n",
    "\n",
    "def normalize(x):\n",
    "    axis = tuple(range(len(x.shape) - 1))\n",
    "    mean = np.mean(x, axis=axis)\n",
    "    std = np.std(x, axis=axis)\n",
    "    print('Mean: ', mean)\n",
    "    print('Std: ', std)\n",
    "    x = x - mean\n",
    "    x = x / std\n",
    "\n",
    "    norm_mean = np.mean(x, axis=axis)\n",
    "    norm_std = np.std(x, axis=axis)\n",
    "    print('Normalized Mean: ', norm_mean)\n",
    "    print('Normalized Std: ', norm_std)\n",
    "    \n",
    "    return x\n",
    "\n",
    "def rgb2grayscale(rgb):\n",
    "    r, g, b = rgb[:,:,0], rgb[:,:,1], rgb[:,:,2]\n",
    "    gray = 0.2989 * r + 0.5870 * g + 0.1140 * b\n",
    "\n",
    "    return np.expand_dims(gray, axis=2)\n",
    "\n",
    "X_train = np.array([np.append(x, rgb2grayscale(x), axis=2) for x in X_train])\n",
    "X_valid = np.array([np.append(x, rgb2grayscale(x), axis=2) for x in X_valid])\n",
    "X_test = np.array([np.append(x, rgb2grayscale(x), axis=2) for x in X_test])\n",
    "\n",
    "X_train = normalize(X_train)\n",
    "X_valid = normalize(X_valid)\n",
    "X_test = normalize(X_test)"
   ]
  },
  {
   "cell_type": "markdown",
   "metadata": {
    "deletable": true,
    "editable": true
   },
   "source": [
    "### Model Architecture"
   ]
  },
  {
   "cell_type": "code",
   "execution_count": 6,
   "metadata": {
    "collapsed": false,
    "deletable": true,
    "editable": true
   },
   "outputs": [],
   "source": [
    "### Define your architecture here.\n",
    "### Feel free to use as many code cells as needed.\n",
    "import tensorflow as tf\n",
    "from tensorflow.contrib.layers import flatten\n",
    "\n",
    "mu = 0.\n",
    "std = 0.1\n",
    "\n",
    "def conv(x, filter_size, filter_num, padding='SAME'):\n",
    "    _, _, _, depth = x.get_shape().as_list()\n",
    "    filter_weights = tf.Variable(tf.truncated_normal((filter_size, filter_size, depth, filter_num), mu, std))\n",
    "    filter_biases = tf.Variable(tf.zeros(filter_num))\n",
    "    stride = (1, 1, 1, 1)\n",
    "    return tf.nn.bias_add(tf.nn.conv2d(x, filter_weights, stride, padding), filter_biases)\n",
    "\n",
    "def pool(x):\n",
    "    return tf.nn.max_pool(x, (1, 2, 2, 1), (1, 2, 2, 1), 'VALID')\n",
    "\n",
    "def fc(x, output_num):\n",
    "    _, input_num = x.get_shape().as_list()\n",
    "    fc_weights = tf.Variable(tf.truncated_normal((input_num, output_num), mu, std))\n",
    "    fc_biases = tf.Variable(tf.zeros(output_num))\n",
    "    return tf.nn.bias_add(tf.matmul(x, fc_weights), fc_biases)\n",
    "\n",
    "# reference: https://github.com/ry/tensorflow-resnet/blob/master/resnet.py#L227\n",
    "def batch_norm(x, is_training):\n",
    "    x_shape = x.get_shape()\n",
    "    params_shape = x_shape[-1:]\n",
    "\n",
    "    axis = list(range(len(x_shape) - 1))\n",
    "\n",
    "    beta = tf.Variable(tf.zeros(params_shape))\n",
    "    gamma = tf.Variable(tf.ones(params_shape))\n",
    "\n",
    "    moving_mean = tf.Variable(tf.zeros(params_shape), trainable=False)\n",
    "    moving_variance = tf.Variable(tf.ones(params_shape), trainable=False)\n",
    "\n",
    "    # These ops will only be preformed when training.\n",
    "    mean, variance = tf.nn.moments(x, axis)\n",
    "    update_moving_mean = moving_averages.assign_moving_average(\n",
    "        moving_mean, mean, BN_DECAY)\n",
    "    update_moving_variance = moving_averages.assign_moving_average(\n",
    "        moving_variance, variance, BN_DECAY)\n",
    "    tf.add_to_collection(UPDATE_OPS_COLLECTION, update_moving_mean)\n",
    "    tf.add_to_collection(UPDATE_OPS_COLLECTION, update_moving_variance)\n",
    "\n",
    "    mean, variance = control_flow_ops.cond(\n",
    "        is_training, lambda: (mean, variance),\n",
    "        lambda: (moving_mean, moving_variance))\n",
    "\n",
    "    x = tf.nn.batch_normalization(x, mean, variance, beta, gamma, BN_EPSILON)\n",
    "    \n",
    "    return x\n",
    "\n",
    "def lenet(x):\n",
    "    conv1 = conv(x, 5, 6, 'VALID')\n",
    "    conv1 = tf.nn.relu(conv1)\n",
    "    conv1 = pool(conv1)\n",
    "    \n",
    "    conv2 = conv(conv1, 5, 16, 'VALID')\n",
    "    conv2 = tf.nn.relu(conv2)\n",
    "    conv2 = pool(conv2)\n",
    "    \n",
    "    fc0 = flatten(conv2)\n",
    "    \n",
    "    fc1 = fc(fc0, 120)\n",
    "    fc1 = tf.nn.relu(fc1)\n",
    "    \n",
    "    fc2 = fc(fc1, 84)\n",
    "    fc2 = tf.nn.relu(fc2)\n",
    "    \n",
    "    logits = fc(fc2, 43)\n",
    "    \n",
    "    return logits\n",
    "\n",
    "def mynet(x):\n",
    "    conv1 = conv(x, 3, 6)\n",
    "    conv1 = tf.nn.relu(conv1)\n",
    "    conv1 = pool(conv1)\n",
    "    \n",
    "    conv2 = conv(conv1, 3, 16)\n",
    "    conv2 = tf.nn.relu(conv2)\n",
    "    conv2 = pool(conv2)\n",
    "    \n",
    "    conv3 = conv(conv2, 3, 16)\n",
    "    conv3 = tf.nn.relu(conv3)\n",
    "    conv3 = pool(conv3)\n",
    "    \n",
    "    fc0 = flatten(conv3)\n",
    "    \n",
    "    fc1 = fc(fc0, 120)\n",
    "    fc1 = tf.nn.relu(fc1)\n",
    "    \n",
    "    fc2 = fc(fc1, 84)\n",
    "    fc2 = tf.nn.relu(fc2)\n",
    "    \n",
    "    logits = fc(fc2, 43)\n",
    "    \n",
    "    return logits\n",
    "\n",
    "def mynet2(x):\n",
    "    conv1_1 = conv(x, 3, 6)\n",
    "    conv1_1 = tf.nn.relu(conv1_1)\n",
    "    conv1_2 = conv(conv1_1, 3, 6)\n",
    "    conv1_2 = tf.nn.relu(conv1_2)\n",
    "    conv1 = pool(conv1_2)\n",
    "    \n",
    "    conv2_1 = conv(conv1, 3, 16)\n",
    "    conv2_1 = tf.nn.relu(conv2_1)\n",
    "    conv2_2 = conv(conv2_1, 3, 16)\n",
    "    conv2_2 = tf.nn.relu(conv2_2)\n",
    "    conv2_3 = conv(conv2_2, 3, 16)\n",
    "    conv2_3 = tf.nn.relu(conv2_3)\n",
    "    conv2 = pool(conv2_2)\n",
    "    \n",
    "    conv3_1 = conv(conv2, 3, 16)\n",
    "    conv3_1 = tf.nn.relu(conv3_1)\n",
    "    conv3_2 = conv(conv3_1, 3, 16)\n",
    "    conv3_2 = tf.nn.relu(conv3_2)\n",
    "    \n",
    "    fc0 = flatten(conv3_2)\n",
    "    \n",
    "    fc1 = fc(fc0, 120)\n",
    "    fc1 = tf.nn.relu(fc1)\n",
    "    \n",
    "    fc2 = fc(fc1, 84)\n",
    "    fc2 = tf.nn.relu(fc2)\n",
    "    \n",
    "    logits = fc(fc2, 43)\n",
    "    \n",
    "    return logits"
   ]
  },
  {
   "cell_type": "code",
   "execution_count": 7,
   "metadata": {
    "collapsed": true
   },
   "outputs": [],
   "source": [
    "from tensorflow.python.training import moving_averages\n",
    "from tensorflow.python.ops import control_flow_ops\n",
    "\n",
    "MOVING_AVERAGE_DECAY = 0.9997\n",
    "BN_DECAY = MOVING_AVERAGE_DECAY\n",
    "BN_EPSILON = 0.001\n",
    "UPDATE_OPS_COLLECTION = 'mynet-bn-updates'\n",
    "\n",
    "def mynet3(x, is_training, keep_prob):\n",
    "    with tf.variable_scope('conv1'):\n",
    "        conv1_1 = conv(x, 3, 16)\n",
    "        conv1_1 = batch_norm(conv1_1, is_training)\n",
    "        conv1_1 = tf.nn.dropout(conv1_1, keep_prob=keep_prob)\n",
    "        conv1_1 = tf.nn.elu(conv1_1)\n",
    "        conv1_2 = conv(conv1_1, 3, 16)\n",
    "        conv1_2 = batch_norm(conv1_2, is_training)\n",
    "        conv1_2 = tf.nn.dropout(conv1_2, keep_prob=keep_prob)\n",
    "        conv1_2 = tf.nn.elu(conv1_2)\n",
    "        conv1 = pool(conv1_2)\n",
    "    \n",
    "    with tf.variable_scope('conv2'):\n",
    "        conv2_1 = conv(conv1, 3, 16)\n",
    "        conv2_1 = batch_norm(conv2_1, is_training)\n",
    "        conv2_1 = tf.nn.dropout(conv2_1, keep_prob=keep_prob)\n",
    "        conv2_1 = tf.nn.elu(conv2_1)\n",
    "        conv2_2 = conv(conv2_1, 3, 16)\n",
    "        conv2_2 = batch_norm(conv2_2, is_training)\n",
    "        conv2_2 = tf.nn.dropout(conv2_2, keep_prob=keep_prob)\n",
    "        conv2_2 = tf.nn.elu(conv2_2)\n",
    "        conv2_3 = conv(conv2_2, 3, 16)\n",
    "        conv2_3 = batch_norm(conv2_3, is_training)\n",
    "        conv2_3 = tf.nn.dropout(conv2_3, keep_prob=keep_prob)\n",
    "        conv2_3 = tf.nn.elu(conv2_3)\n",
    "        conv2_4 = conv(conv2_3, 3, 16)\n",
    "        conv2_4 = batch_norm(conv2_4, is_training)\n",
    "        conv2_4 = tf.nn.dropout(conv2_4, keep_prob=keep_prob)\n",
    "        conv2_4 = tf.nn.elu(conv2_4)\n",
    "        conv2_5 = conv(conv2_4, 3, 16)\n",
    "        conv2_5 = batch_norm(conv2_5, is_training)\n",
    "        conv2_5 = tf.nn.dropout(conv2_5, keep_prob=keep_prob)\n",
    "        conv2_5 = tf.nn.elu(conv2_5)\n",
    "        conv2_6 = conv(conv2_5, 3, 16)\n",
    "        conv2_6 = batch_norm(conv2_6, is_training)\n",
    "        conv2_6 = tf.nn.dropout(conv2_6, keep_prob=keep_prob)\n",
    "        conv2_6 = tf.nn.elu(conv2_6)\n",
    "        conv2_7 = conv(conv2_6, 3, 16)\n",
    "        conv2_7 = batch_norm(conv2_7, is_training)\n",
    "        conv2_7 = tf.nn.dropout(conv2_7, keep_prob=keep_prob)\n",
    "        conv2_7 = tf.nn.elu(conv2_7)\n",
    "        conv2 = pool(conv2_7)\n",
    "    \n",
    "    with tf.variable_scope('conv3'):\n",
    "        conv3_1 = conv(conv2, 3, 16)\n",
    "        conv3_1 = batch_norm(conv3_1, is_training)\n",
    "        conv3_1 = tf.nn.dropout(conv3_1, keep_prob=keep_prob)\n",
    "        conv3_1 = tf.nn.elu(conv3_1)\n",
    "        conv3_2 = conv(conv3_1, 3, 16)\n",
    "        conv3_2 = batch_norm(conv3_2, is_training)\n",
    "        conv3_2 = tf.nn.dropout(conv3_2, keep_prob=keep_prob)\n",
    "        conv3_2 = tf.nn.elu(conv3_2)\n",
    "    \n",
    "    with tf.variable_scope('fc'):\n",
    "        fc0 = flatten(conv3_2)\n",
    "\n",
    "        fc1 = fc(fc0, 120)\n",
    "        fc1 = tf.nn.elu(fc1)\n",
    "\n",
    "        fc2 = fc(fc1, 84)\n",
    "        fc2 = tf.nn.elu(fc2)\n",
    "\n",
    "        logits = fc(fc2, 43)\n",
    "    \n",
    "    return logits"
   ]
  },
  {
   "cell_type": "markdown",
   "metadata": {
    "deletable": true,
    "editable": true
   },
   "source": [
    "### Train, Validate and Test the Model"
   ]
  },
  {
   "cell_type": "markdown",
   "metadata": {
    "deletable": true,
    "editable": true
   },
   "source": [
    "A validation set can be used to assess how well the model is performing. A low accuracy on the training and validation\n",
    "sets imply underfitting. A high accuracy on the test set but low accuracy on the validation set implies overfitting."
   ]
  },
  {
   "cell_type": "code",
   "execution_count": 8,
   "metadata": {
    "collapsed": false,
    "deletable": true,
    "editable": true
   },
   "outputs": [],
   "source": [
    "X = tf.placeholder(tf.float32, shape=(None, 32, 32, 4), name='X')\n",
    "y = tf.placeholder(tf.int32, shape=(None,), name='y')\n",
    "y_one_hot = tf.one_hot(y, n_classes, name='y_one_hot')\n",
    "\n",
    "is_training = tf.placeholder(tf.bool, name='is_training')\n",
    "keep_prob = tf.placeholder(tf.float32, name='keep_prob')\n",
    "\n",
    "logits = mynet3(X, is_training, keep_prob)\n",
    "cross_entropy = tf.nn.softmax_cross_entropy_with_logits(logits=logits, labels=y_one_hot)\n",
    "loss_op = tf.reduce_mean(cross_entropy)\n",
    "optimizer = tf.train.AdamOptimizer(learning_rate=0.001)\n",
    "\n",
    "# reference: https://github.com/ry/tensorflow-resnet/blob/master/resnet_train.py#L66\n",
    "batchnorm_updates = tf.get_collection(UPDATE_OPS_COLLECTION)\n",
    "batchnorm_updates_op = tf.group(*batchnorm_updates)\n",
    "train_op = tf.group(optimizer.minimize(loss_op), batchnorm_updates_op)"
   ]
  },
  {
   "cell_type": "code",
   "execution_count": 9,
   "metadata": {
    "collapsed": false,
    "deletable": true,
    "editable": true
   },
   "outputs": [],
   "source": [
    "correct_prediction = tf.equal(tf.argmax(logits, 1), tf.argmax(y_one_hot, 1))\n",
    "accuracy_operation = tf.reduce_mean(tf.cast(correct_prediction, tf.float32))\n",
    "saver = tf.train.Saver()\n",
    "\n",
    "def evaluate(X_data, y_data):\n",
    "    num_examples = len(X_data)\n",
    "    total_accuracy = 0\n",
    "    sess = tf.get_default_session()\n",
    "    for offset in range(0, num_examples, BATCH_SIZE):\n",
    "        batch_x, batch_y = X_data[offset:offset+BATCH_SIZE], y_data[offset:offset+BATCH_SIZE]\n",
    "        accuracy = sess.run(accuracy_operation, feed_dict={X: batch_x, y: batch_y, is_training: False, keep_prob: 1.0})\n",
    "        total_accuracy += (accuracy * len(batch_x))\n",
    "    return total_accuracy / num_examples"
   ]
  },
  {
   "cell_type": "code",
   "execution_count": 13,
   "metadata": {
    "collapsed": false,
    "deletable": true,
    "editable": true,
    "scrolled": false
   },
   "outputs": [
    {
     "name": "stdout",
     "output_type": "stream",
     "text": [
      "EPOCH 1 ...\n",
      "Validation Accuracy = 0.27959\n",
      "Train Accuracy = 0.30061\n",
      "Loss = 3.35950\n",
      "\n",
      "EPOCH 11 ...\n",
      "Validation Accuracy = 0.89184\n",
      "Train Accuracy = 0.96049\n",
      "Loss = 0.27567\n",
      "\n",
      "EPOCH 21 ...\n",
      "Validation Accuracy = 0.92290\n",
      "Train Accuracy = 0.98899\n",
      "Loss = 0.12021\n",
      "\n",
      "EPOCH 31 ...\n",
      "Validation Accuracy = 0.92472\n",
      "Train Accuracy = 0.99399\n",
      "Loss = 0.07532\n",
      "\n",
      "EPOCH 41 ...\n",
      "Validation Accuracy = 0.94694\n",
      "Train Accuracy = 0.99897\n",
      "Loss = 0.05142\n",
      "\n",
      "EPOCH 51 ...\n",
      "Validation Accuracy = 0.95714\n",
      "Train Accuracy = 0.99931\n",
      "Loss = 0.03886\n",
      "\n",
      "EPOCH 61 ...\n",
      "Validation Accuracy = 0.95488\n",
      "Train Accuracy = 0.99879\n",
      "Loss = 0.03069\n",
      "\n",
      "EPOCH 71 ...\n",
      "Validation Accuracy = 0.95850\n",
      "Train Accuracy = 0.99974\n",
      "Loss = 0.03054\n",
      "\n",
      "EPOCH 81 ...\n",
      "Validation Accuracy = 0.95918\n",
      "Train Accuracy = 0.99899\n",
      "Loss = 0.02538\n",
      "\n",
      "EPOCH 91 ...\n",
      "Validation Accuracy = 0.96054\n",
      "Train Accuracy = 0.99986\n",
      "Loss = 0.02146\n",
      "\n",
      "Model saved.\n"
     ]
    },
    {
     "data": {
      "text/plain": [
       "[<matplotlib.lines.Line2D at 0x7ff73ac65240>,\n",
       " <matplotlib.lines.Line2D at 0x7ff73aca5400>]"
      ]
     },
     "execution_count": 13,
     "metadata": {},
     "output_type": "execute_result"
    },
    {
     "data": {
      "image/png": "[encoded data removed]",
      "text/plain": [
       "<matplotlib.figure.Figure at 0x7ff7306705f8>"
      ]
     },
     "metadata": {},
     "output_type": "display_data"
    },
    {
     "data": {
      "image/png": "[encoded data removed]",
      "text/plain": [
       "<matplotlib.figure.Figure at 0x7ff73ad47f60>"
      ]
     },
     "metadata": {},
     "output_type": "display_data"
    }
   ],
   "source": [
    "### Train your model here.\n",
    "### Calculate and report the accuracy on the training and validation set.\n",
    "### Once a final model architecture is selected, \n",
    "### the accuracy on the test set should be calculated and reported as well.\n",
    "### Feel free to use as many code cells as needed.\n",
    "from sklearn.model_selection import train_test_split\n",
    "from sklearn.utils import shuffle\n",
    "\n",
    "BATCH_SIZE = 1024\n",
    "EPOCH_NUM = 100\n",
    "\n",
    "config = tf.ConfigProto()\n",
    "config.graph_options.optimizer_options.global_jit_level = tf.OptimizerOptions.ON_1\n",
    "\n",
    "with tf.Session(config=config) as sess:\n",
    "    sess.run(tf.global_variables_initializer())\n",
    "    losses = []\n",
    "    validation_accuracies = []\n",
    "    train_accuracies = []\n",
    "    for i in range(EPOCH_NUM):\n",
    "        X_train, y_train = shuffle(X_train, y_train)\n",
    "        loss_total = 0.\n",
    "        for offset in range(0, n_train, BATCH_SIZE):\n",
    "            end = offset + BATCH_SIZE\n",
    "            X_batch, y_batch = X_train[offset:end], y_train[offset:end]\n",
    "            loss_batch, _ = sess.run([loss_op, train_op], feed_dict={X: X_batch, y: y_batch, is_training: True, keep_prob: 0.75})\n",
    "            loss_total += loss_batch * len(X_batch)\n",
    "        \n",
    "        loss = loss_total / n_train\n",
    "        losses.append(loss)\n",
    "        validation_accuracy = evaluate(X_valid, y_valid)\n",
    "        validation_accuracies.append(validation_accuracy)\n",
    "        train_accuracy = evaluate(X_train, y_train)\n",
    "        train_accuracies.append(train_accuracy)\n",
    "        \n",
    "        if i % 10 == 0:\n",
    "            print(\"EPOCH {} ...\".format(i+1))\n",
    "            print(\"Validation Accuracy = {:.5f}\".format(validation_accuracy))\n",
    "            print(\"Train Accuracy = {:.5f}\".format(train_accuracy))\n",
    "            print(\"Loss = {:.5f}\".format(loss_total / n_train))\n",
    "            print()\n",
    "        \n",
    "    saver.save(sess, \"./traffic\")\n",
    "    print(\"Model saved.\")\n",
    "\n",
    "plt.figure(1)\n",
    "plt.plot(range(EPOCH_NUM), losses, 'g')\n",
    "    \n",
    "plt.figure(2)\n",
    "plt.plot(range(EPOCH_NUM), validation_accuracies, 'b',\n",
    "         range(EPOCH_NUM), train_accuracies, 'r')"
   ]
  },
  {
   "cell_type": "code",
   "execution_count": 14,
   "metadata": {
    "collapsed": false
   },
   "outputs": [
    {
     "name": "stdout",
     "output_type": "stream",
     "text": [
      "Test Accuracy = 0.952\n"
     ]
    }
   ],
   "source": [
    "with tf.Session() as sess:\n",
    "    saver.restore(sess, tf.train.latest_checkpoint('.'))\n",
    "\n",
    "    test_accuracy = evaluate(X_test, y_test)\n",
    "    print(\"Test Accuracy = {:.3f}\".format(test_accuracy))"
   ]
  },
  {
   "cell_type": "markdown",
   "metadata": {
    "deletable": true,
    "editable": true
   },
   "source": [
    "---\n",
    "\n",
    "## Step 3: Test a Model on New Images\n",
    "\n",
    "To give yourself more insight into how your model is working, download at least five pictures of German traffic signs from the web and use your model to predict the traffic sign type.\n",
    "\n",
    "You may find `signnames.csv` useful as it contains mappings from the class id (integer) to the actual sign name."
   ]
  },
  {
   "cell_type": "markdown",
   "metadata": {
    "deletable": true,
    "editable": true
   },
   "source": [
    "### Load and Output the Images"
   ]
  },
  {
   "cell_type": "code",
   "execution_count": null,
   "metadata": {
    "collapsed": true,
    "deletable": true,
    "editable": true
   },
   "outputs": [],
   "source": [
    "### Load the images and plot them here.\n",
    "### Feel free to use as many code cells as needed."
   ]
  },
  {
   "cell_type": "markdown",
   "metadata": {
    "deletable": true,
    "editable": true
   },
   "source": [
    "### Predict the Sign Type for Each Image"
   ]
  },
  {
   "cell_type": "code",
   "execution_count": null,
   "metadata": {
    "collapsed": true,
    "deletable": true,
    "editable": true
   },
   "outputs": [],
   "source": [
    "### Run the predictions here and use the model to output the prediction for each image.\n",
    "### Make sure to pre-process the images with the same pre-processing pipeline used earlier.\n",
    "### Feel free to use as many code cells as needed."
   ]
  },
  {
   "cell_type": "markdown",
   "metadata": {
    "deletable": true,
    "editable": true
   },
   "source": [
    "### Analyze Performance"
   ]
  },
  {
   "cell_type": "code",
   "execution_count": null,
   "metadata": {
    "collapsed": true,
    "deletable": true,
    "editable": true
   },
   "outputs": [],
   "source": [
    "### Calculate the accuracy for these 5 new images. \n",
    "### For example, if the model predicted 1 out of 5 signs correctly, it's 20% accurate on these new images."
   ]
  },
  {
   "cell_type": "markdown",
   "metadata": {
    "deletable": true,
    "editable": true
   },
   "source": [
    "### Output Top 5 Softmax Probabilities For Each Image Found on the Web"
   ]
  },
  {
   "cell_type": "markdown",
   "metadata": {
    "deletable": true,
    "editable": true
   },
   "source": [
    "For each of the new images, print out the model's softmax probabilities to show the **certainty** of the model's predictions (limit the output to the top 5 probabilities for each image). [`tf.nn.top_k`](https://www.tensorflow.org/versions/r0.12/api_docs/python/nn.html#top_k) could prove helpful here. \n",
    "\n",
    "The example below demonstrates how tf.nn.top_k can be used to find the top k predictions for each image.\n",
    "\n",
    "`tf.nn.top_k` will return the values and indices (class ids) of the top k predictions. So if k=3, for each sign, it'll return the 3 largest probabilities (out of a possible 43) and the correspoding class ids.\n",
    "\n",
    "Take this numpy array as an example. The values in the array represent predictions. The array contains softmax probabilities for five candidate images with six possible classes. `tk.nn.top_k` is used to choose the three classes with the highest probability:\n",
    "\n",
    "```\n",
    "# (5, 6) array\n",
    "a = np.array([[ 0.24879643,  0.07032244,  0.12641572,  0.34763842,  0.07893497,\n",
    "         0.12789202],\n",
    "       [ 0.28086119,  0.27569815,  0.08594638,  0.0178669 ,  0.18063401,\n",
    "         0.15899337],\n",
    "       [ 0.26076848,  0.23664738,  0.08020603,  0.07001922,  0.1134371 ,\n",
    "         0.23892179],\n",
    "       [ 0.11943333,  0.29198961,  0.02605103,  0.26234032,  0.1351348 ,\n",
    "         0.16505091],\n",
    "       [ 0.09561176,  0.34396535,  0.0643941 ,  0.16240774,  0.24206137,\n",
    "         0.09155967]])\n",
    "```\n",
    "\n",
    "Running it through `sess.run(tf.nn.top_k(tf.constant(a), k=3))` produces:\n",
    "\n",
    "```\n",
    "TopKV2(values=array([[ 0.34763842,  0.24879643,  0.12789202],\n",
    "       [ 0.28086119,  0.27569815,  0.18063401],\n",
    "       [ 0.26076848,  0.23892179,  0.23664738],\n",
    "       [ 0.29198961,  0.26234032,  0.16505091],\n",
    "       [ 0.34396535,  0.24206137,  0.16240774]]), indices=array([[3, 0, 5],\n",
    "       [0, 1, 4],\n",
    "       [0, 5, 1],\n",
    "       [1, 3, 5],\n",
    "       [1, 4, 3]], dtype=int32))\n",
    "```\n",
    "\n",
    "Looking just at the first row we get `[ 0.34763842,  0.24879643,  0.12789202]`, you can confirm these are the 3 largest probabilities in `a`. You'll also notice `[3, 0, 5]` are the corresponding indices."
   ]
  },
  {
   "cell_type": "code",
   "execution_count": null,
   "metadata": {
    "collapsed": true,
    "deletable": true,
    "editable": true
   },
   "outputs": [],
   "source": [
    "### Print out the top five softmax probabilities for the predictions on the German traffic sign images found on the web. \n",
    "### Feel free to use as many code cells as needed."
   ]
  },
  {
   "cell_type": "markdown",
   "metadata": {
    "deletable": true,
    "editable": true
   },
   "source": [
    "> **Note**: Once you have completed all of the code implementations, you need to finalize your work by exporting the IPython Notebook as an HTML document. Before exporting the notebook to html, all of the code cells need to have been run. You can then export the notebook by using the menu above and navigating to  \\n\",\n",
    "    \"**File -> Download as -> HTML (.html)**. Include the finished document along with this notebook as your submission. "
   ]
  },
  {
   "cell_type": "markdown",
   "metadata": {
    "deletable": true,
    "editable": true
   },
   "source": [
    "### Project Writeup\n",
    "\n",
    "Once you have completed the code implementation, document your results in a project writeup using this [template](https://github.com/udacity/CarND-Traffic-Sign-Classifier-Project/blob/master/writeup_template.md) as a guide. The writeup can be in a markdown or pdf file. "
   ]
  }
 ],
 "metadata": {
  "anaconda-cloud": {},
  "kernelspec": {
   "display_name": "Python 3",
   "language": "python",
   "name": "python3"
  },
  "language_info": {
   "codemirror_mode": {
    "name": "ipython",
    "version": 3
   },
   "file_extension": ".py",
   "mimetype": "text/x-python",
   "name": "python",
   "nbconvert_exporter": "python",
   "pygments_lexer": "ipython3",
   "version": "3.4.3"
  },
  "widgets": {
   "state": {},
   "version": "1.1.2"
  }
 },
 "nbformat": 4,
 "nbformat_minor": 1
}
