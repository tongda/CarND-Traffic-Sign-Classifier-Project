{
 "cells": [
  {
   "cell_type": "markdown",
   "metadata": {
    "deletable": true,
    "editable": true
   },
   "source": [
    "# Self-Driving Car Engineer Nanodegree\n",
    "\n",
    "## Deep Learning\n",
    "\n",
    "## Project: Build a Traffic Sign Recognition Classifier\n",
    "\n",
    "In this notebook, a template is provided for you to implement your functionality in stages, which is required to successfully complete this project. If additional code is required that cannot be included in the notebook, be sure that the Python code is successfully imported and included in your submission if necessary. \n",
    "\n",
    "> **Note**: Once you have completed all of the code implementations, you need to finalize your work by exporting the iPython Notebook as an HTML document. Before exporting the notebook to html, all of the code cells need to have been run so that reviewers can see the final implementation and output. You can then export the notebook by using the menu above and navigating to  \\n\",\n",
    "    \"**File -> Download as -> HTML (.html)**. Include the finished document along with this notebook as your submission. \n",
    "\n",
    "In addition to implementing code, there is a writeup to complete. The writeup should be completed in a separate file, which can be either a markdown file or a pdf document. There is a [write up template](https://github.com/udacity/CarND-Traffic-Sign-Classifier-Project/blob/master/writeup_template.md) that can be used to guide the writing process. Completing the code template and writeup template will cover all of the [rubric points](https://review.udacity.com/#!/rubrics/481/view) for this project.\n",
    "\n",
    "The [rubric](https://review.udacity.com/#!/rubrics/481/view) contains \"Stand Out Suggestions\" for enhancing the project beyond the minimum requirements. The stand out suggestions are optional. If you decide to pursue the \"stand out suggestions\", you can include the code in this Ipython notebook and also discuss the results in the writeup file.\n",
    "\n",
    "\n",
    ">**Note:** Code and Markdown cells can be executed using the **Shift + Enter** keyboard shortcut. In addition, Markdown cells can be edited by typically double-clicking the cell to enter edit mode."
   ]
  },
  {
   "cell_type": "markdown",
   "metadata": {
    "deletable": true,
    "editable": true
   },
   "source": [
    "---\n",
    "## Step 0: Load The Data"
   ]
  },
  {
   "cell_type": "code",
   "execution_count": 1,
   "metadata": {
    "collapsed": false,
    "deletable": true,
    "editable": true
   },
   "outputs": [
    {
     "name": "stdout",
     "output_type": "stream",
     "text": [
      "{0: 'Speed limit (20km/h)', 1: 'Speed limit (30km/h)', 2: 'Speed limit (50km/h)', 3: 'Speed limit (60km/h)', 4: 'Speed limit (70km/h)', 5: 'Speed limit (80km/h)', 6: 'End of speed limit (80km/h)', 7: 'Speed limit (100km/h)', 8: 'Speed limit (120km/h)', 9: 'No passing', 10: 'No passing for vehicles over 3.5 metric tons', 11: 'Right-of-way at the next intersection', 12: 'Priority road', 13: 'Yield', 14: 'Stop', 15: 'No vehicles', 16: 'Vehicles over 3.5 metric tons prohibited', 17: 'No entry', 18: 'General caution', 19: 'Dangerous curve to the left', 20: 'Dangerous curve to the right', 21: 'Double curve', 22: 'Bumpy road', 23: 'Slippery road', 24: 'Road narrows on the right', 25: 'Road work', 26: 'Traffic signals', 27: 'Pedestrians', 28: 'Children crossing', 29: 'Bicycles crossing', 30: 'Beware of ice/snow', 31: 'Wild animals crossing', 32: 'End of all speed and passing limits', 33: 'Turn right ahead', 34: 'Turn left ahead', 35: 'Ahead only', 36: 'Go straight or right', 37: 'Go straight or left', 38: 'Keep right', 39: 'Keep left', 40: 'Roundabout mandatory', 41: 'End of no passing', 42: 'End of no passing by vehicles over 3.5 metric tons'}\n"
     ]
    }
   ],
   "source": [
    "# Load pickled data\n",
    "import pickle\n",
    "import csv\n",
    "import numpy as np\n",
    "import matplotlib.pyplot as plt\n",
    "# Visualizations will be shown in the notebook.\n",
    "%matplotlib inline\n",
    "\n",
    "training_file = './traffic-signs-data/train.p'\n",
    "validation_file= './traffic-signs-data/valid.p'\n",
    "testing_file = './traffic-signs-data/test.p'\n",
    "\n",
    "with open(training_file, mode='rb') as f:\n",
    "    train = pickle.load(f)\n",
    "with open(validation_file, mode='rb') as f:\n",
    "    valid = pickle.load(f)\n",
    "with open(testing_file, mode='rb') as f:\n",
    "    test = pickle.load(f)\n",
    "    \n",
    "X_train, y_train = train['features'], train['labels']\n",
    "X_valid, y_valid = valid['features'], valid['labels']\n",
    "X_test, y_test = test['features'], test['labels']\n",
    "\n",
    "with open('./signnames.csv') as csvfile:\n",
    "    reader = csv.DictReader(csvfile)\n",
    "    sign_mapping = {int(row['ClassId']): row['SignName'] for row in reader}\n",
    "\n",
    "print(sign_mapping)"
   ]
  },
  {
   "cell_type": "markdown",
   "metadata": {
    "deletable": true,
    "editable": true
   },
   "source": [
    "---\n",
    "\n",
    "## Step 1: Dataset Summary & Exploration\n",
    "\n",
    "The pickled data is a dictionary with 4 key/value pairs:\n",
    "\n",
    "- `'features'` is a 4D array containing raw pixel data of the traffic sign images, (num examples, width, height, channels).\n",
    "- `'labels'` is a 1D array containing the label/class id of the traffic sign. The file `signnames.csv` contains id -> name mappings for each id.\n",
    "- `'sizes'` is a list containing tuples, (width, height) representing the the original width and height the image.\n",
    "- `'coords'` is a list containing tuples, (x1, y1, x2, y2) representing coordinates of a bounding box around the sign in the image. **THESE COORDINATES ASSUME THE ORIGINAL IMAGE. THE PICKLED DATA CONTAINS RESIZED VERSIONS (32 by 32) OF THESE IMAGES**\n",
    "\n",
    "Complete the basic data summary below. Use python, numpy and/or pandas methods to calculate the data summary rather than hard coding the results. For example, the [pandas shape method](http://pandas.pydata.org/pandas-docs/stable/generated/pandas.DataFrame.shape.html) might be useful for calculating some of the summary results. "
   ]
  },
  {
   "cell_type": "markdown",
   "metadata": {
    "deletable": true,
    "editable": true
   },
   "source": [
    "### Provide a Basic Summary of the Data Set Using Python, Numpy and/or Pandas"
   ]
  },
  {
   "cell_type": "code",
   "execution_count": 2,
   "metadata": {
    "collapsed": false,
    "deletable": true,
    "editable": true
   },
   "outputs": [
    {
     "name": "stdout",
     "output_type": "stream",
     "text": [
      "Number of training examples = 34799\n",
      "Number of testing examples = 12630\n",
      "Image data shape = (32, 32, 3)\n",
      "Number of classes = 43\n"
     ]
    }
   ],
   "source": [
    "### Replace each question mark with the appropriate value. \n",
    "### Use python, pandas or numpy methods rather than hard coding the results\n",
    "\n",
    "# TODO: Number of training examples\n",
    "n_train = X_train.shape[0]\n",
    "\n",
    "# TODO: Number of testing examples.\n",
    "n_test = X_test.shape[0]\n",
    "\n",
    "# TODO: What's the shape of an traffic sign image?\n",
    "image_shape = X_train[0].shape\n",
    "\n",
    "# TODO: How many unique classes/labels there are in the dataset.\n",
    "n_classes = len(set(y_train))\n",
    "\n",
    "print(\"Number of training examples =\", n_train)\n",
    "print(\"Number of testing examples =\", n_test)\n",
    "print(\"Image data shape =\", image_shape)\n",
    "print(\"Number of classes =\", n_classes)"
   ]
  },
  {
   "cell_type": "markdown",
   "metadata": {
    "deletable": true,
    "editable": true
   },
   "source": [
    "### Include an exploratory visualization of the dataset"
   ]
  },
  {
   "cell_type": "markdown",
   "metadata": {
    "deletable": true,
    "editable": true
   },
   "source": [
    "Visualize the German Traffic Signs Dataset using the pickled file(s). This is open ended, suggestions include: plotting traffic sign images, plotting the count of each sign, etc.\n",
    "\n",
    "The [Matplotlib](http://matplotlib.org/) [examples](http://matplotlib.org/examples/index.html) and [gallery](http://matplotlib.org/gallery.html) pages are a great resource for doing visualizations in Python.\n",
    "\n",
    "**NOTE:** It's recommended you start with something simple first. If you wish to do more, come back to it after you've completed the rest of the sections."
   ]
  },
  {
   "cell_type": "code",
   "execution_count": 3,
   "metadata": {
    "collapsed": false,
    "deletable": true,
    "editable": true
   },
   "outputs": [
    {
     "data": {
      "text/plain": [
       "<Container object of 43 artists>"
      ]
     },
     "execution_count": 3,
     "metadata": {},
     "output_type": "execute_result"
    },
    {
     "data": {
      "image/png": "[encoded data removed]",
      "text/plain": [
       "<matplotlib.figure.Figure at 0x7fae68190940>"
      ]
     },
     "metadata": {},
     "output_type": "display_data"
    },
    {
     "data": {
      "image/png": "[encoded data removed]",
      "text/plain": [
       "<matplotlib.figure.Figure at 0x7fae2ca0a940>"
      ]
     },
     "metadata": {},
     "output_type": "display_data"
    }
   ],
   "source": [
    "### Data exploration visualization code goes here.\n",
    "### Feel free to use as many code cells as needed.\n",
    "bins = np.bincount(y_train)\n",
    "plt.figure(1)\n",
    "plt.bar(range(43), bins)\n",
    "\n",
    "plt.figure(2)\n",
    "bins_valid = np.bincount(y_valid)\n",
    "plt.bar(list(range(43)), bins_valid)"
   ]
  },
  {
   "cell_type": "markdown",
   "metadata": {
    "deletable": true,
    "editable": true
   },
   "source": [
    "----\n",
    "\n",
    "## Step 2: Design and Test a Model Architecture\n",
    "\n",
    "Design and implement a deep learning model that learns to recognize traffic signs. Train and test your model on the [German Traffic Sign Dataset](http://benchmark.ini.rub.de/?section=gtsrb&subsection=dataset).\n",
    "\n",
    "There are various aspects to consider when thinking about this problem:\n",
    "\n",
    "- Neural network architecture\n",
    "- Play around preprocessing techniques (normalization, rgb to grayscale, etc)\n",
    "- Number of examples per label (some have more than others).\n",
    "- Generate fake data.\n",
    "\n",
    "Here is an example of a [published baseline model on this problem](http://yann.lecun.com/exdb/publis/pdf/sermanet-ijcnn-11.pdf). It's not required to be familiar with the approach used in the paper but, it's good practice to try to read papers like these.\n",
    "\n",
    "**NOTE:** The LeNet-5 implementation shown in the [classroom](https://classroom.udacity.com/nanodegrees/nd013/parts/fbf77062-5703-404e-b60c-95b78b2f3f9e/modules/6df7ae49-c61c-4bb2-a23e-6527e69209ec/lessons/601ae704-1035-4287-8b11-e2c2716217ad/concepts/d4aca031-508f-4e0b-b493-e7b706120f81) at the end of the CNN lesson is a solid starting point. You'll have to change the number of classes and possibly the preprocessing, but aside from that it's plug and play!"
   ]
  },
  {
   "cell_type": "markdown",
   "metadata": {
    "deletable": true,
    "editable": true
   },
   "source": [
    "### Pre-process the Data Set (normalization, grayscale, etc.)"
   ]
  },
  {
   "cell_type": "markdown",
   "metadata": {
    "deletable": true,
    "editable": true
   },
   "source": [
    "Use the code cell (or multiple code cells, if necessary) to implement the first step of your project."
   ]
  },
  {
   "cell_type": "code",
   "execution_count": 4,
   "metadata": {
    "collapsed": false,
    "deletable": true,
    "editable": true
   },
   "outputs": [
    {
     "data": {
      "image/png": "[encoded data removed]",
      "text/plain": [
       "<matplotlib.figure.Figure at 0x7fae2c7964e0>"
      ]
     },
     "metadata": {},
     "output_type": "display_data"
    }
   ],
   "source": [
    "def normalize(x):\n",
    "    broadcast_shape = (x.shape[0], 1, 1, 1)\n",
    "    axis = tuple(range(1, len(x.shape)))\n",
    "    ratios_before_reshape = 2 / (np.max(x, axis=axis) - np.min(x, axis=axis))\n",
    "    ratio = np.reshape(ratios_before_reshape, broadcast_shape)\n",
    "    mins_before_reshape = np.min(x, axis=axis)\n",
    "    return (x - np.reshape(mins_before_reshape, broadcast_shape)) * ratio - 1\n",
    "\n",
    "def rgb2grayscale(rgb):\n",
    "    r, g, b = rgb[:,:,0], rgb[:,:,1], rgb[:,:,2]\n",
    "    gray = 0.2989 * r + 0.5870 * g + 0.1140 * b\n",
    "\n",
    "    return gray\n",
    "\n",
    "def preprocess(X):\n",
    "#     gray_added = np.array([np.append(x, np.expand_dims(rgb2grayscale(x), axis=2), axis=2) for x in X])\n",
    "    normalized = normalize(X)\n",
    "    return normalized\n",
    "\n",
    "plt.figure(1, figsize=(12, 5))\n",
    "plt.suptitle(\"Sign: {0}\".format(sign_mapping[y_train[150]]))\n",
    "plt.subplot(1, 3, 1)\n",
    "plt.title(\"Original\")\n",
    "plt.imshow(X_train[10])\n",
    "\n",
    "plt.subplot(1, 3, 2)\n",
    "plt.title(\"Grayscale\")\n",
    "plt.imshow(rgb2grayscale(X_train[10]), cmap=\"gray\")\n",
    "\n",
    "plt.subplot(1, 3, 3)\n",
    "plt.title(\"Normalized\")\n",
    "plt.imshow(normalize(X_train)[10], vmin=-1, vmax=1)\n",
    "\n",
    "X_train = preprocess(X_train)\n",
    "X_valid = preprocess(X_valid)\n",
    "X_test = preprocess(X_test)"
   ]
  },
  {
   "cell_type": "markdown",
   "metadata": {
    "deletable": true,
    "editable": true
   },
   "source": [
    "### Model Architecture"
   ]
  },
  {
   "cell_type": "code",
   "execution_count": 5,
   "metadata": {
    "collapsed": false,
    "deletable": true,
    "editable": true
   },
   "outputs": [],
   "source": [
    "### Define your architecture here.\n",
    "### Feel free to use as many code cells as needed.\n",
    "import tensorflow as tf\n",
    "from tensorflow.contrib.layers import flatten\n",
    "\n",
    "from tensorflow.python.training import moving_averages\n",
    "from tensorflow.python.ops import control_flow_ops\n",
    "\n",
    "MOVING_AVERAGE_DECAY = 0.9997\n",
    "BN_DECAY = MOVING_AVERAGE_DECAY\n",
    "BN_EPSILON = 0.001\n",
    "UPDATE_OPS_COLLECTION = 'mynet-bn-updates'\n",
    "\n",
    "mu = 0.05\n",
    "std = 0.1\n",
    "\n",
    "def variable_summaries(var):\n",
    "    \"\"\"Attach a lot of summaries to a Tensor (for TensorBoard visualization).\"\"\"\n",
    "    with tf.name_scope('summaries'):\n",
    "        mean = tf.reduce_mean(var)\n",
    "        tf.summary.scalar('mean', mean)\n",
    "        with tf.name_scope('stddev'):\n",
    "            stddev = tf.sqrt(tf.reduce_mean(tf.square(var - mean)))\n",
    "        tf.summary.scalar('stddev', stddev)\n",
    "        tf.summary.scalar('max', tf.reduce_max(var))\n",
    "        tf.summary.scalar('min', tf.reduce_min(var))\n",
    "        tf.summary.histogram('histogram', var)\n",
    "\n",
    "def conv(x, filter_size, filter_num, stride_step=1, padding='SAME'):\n",
    "    _, _, _, depth = x.get_shape().as_list()\n",
    "    with tf.device(\"/cpu:0\"):\n",
    "        with tf.name_scope(\"weights\"):\n",
    "            filter_weights = tf.Variable(tf.truncated_normal((filter_size, filter_size, depth, filter_num), mu, std))\n",
    "            variable_summaries(filter_weights)\n",
    "        with tf.name_scope(\"biases\"):\n",
    "            filter_biases = tf.Variable(tf.zeros(filter_num))\n",
    "            variable_summaries(filter_biases)\n",
    "    stride = (1, stride_step, stride_step, 1)\n",
    "    return tf.nn.bias_add(tf.nn.conv2d(x, filter_weights, stride, padding), filter_biases)\n",
    "\n",
    "def pool(x):\n",
    "    return tf.nn.max_pool(x, (1, 2, 2, 1), (1, 2, 2, 1), 'VALID')\n",
    "\n",
    "def fc(x, output_num):\n",
    "    _, input_num = x.get_shape().as_list()\n",
    "    with tf.name_scope(\"weights\"):\n",
    "        fc_weights = tf.Variable(tf.truncated_normal((input_num, output_num), mu, std))\n",
    "        variable_summaries(fc_weights)\n",
    "    with tf.name_scope(\"biases\"):\n",
    "        fc_biases = tf.Variable(tf.zeros(output_num))\n",
    "        variable_summaries(fc_biases)\n",
    "    return tf.nn.bias_add(tf.matmul(x, fc_weights), fc_biases)\n",
    "\n",
    "# reference: https://github.com/ry/tensorflow-resnet/blob/master/resnet.py#L227\n",
    "def batch_norm(x, is_training):\n",
    "    x_shape = x.get_shape()\n",
    "    params_shape = x_shape[-1:]\n",
    "\n",
    "    axis = list(range(len(x_shape) - 1))\n",
    "\n",
    "    with tf.name_scope(\"beta\"):\n",
    "        beta = tf.Variable(tf.zeros(params_shape))\n",
    "        variable_summaries(beta)\n",
    "    with tf.name_scope(\"gamma\"):\n",
    "        gamma = tf.Variable(tf.ones(params_shape))\n",
    "        variable_summaries(gamma)\n",
    "\n",
    "    with tf.name_scope(\"moving_mean\"):\n",
    "        moving_mean = tf.Variable(tf.zeros(params_shape), trainable=False)\n",
    "        variable_summaries(moving_mean)\n",
    "    with tf.name_scope(\"moving_variance\"):\n",
    "        moving_variance = tf.Variable(tf.ones(params_shape), trainable=False)\n",
    "        variable_summaries(moving_variance)\n",
    "\n",
    "    # These ops will only be preformed when training.\n",
    "    mean, variance = tf.nn.moments(x, axis)\n",
    "    update_moving_mean = moving_averages.assign_moving_average(\n",
    "        moving_mean, mean, BN_DECAY)\n",
    "    update_moving_variance = moving_averages.assign_moving_average(\n",
    "        moving_variance, variance, BN_DECAY)\n",
    "    tf.add_to_collection(UPDATE_OPS_COLLECTION, update_moving_mean)\n",
    "    tf.add_to_collection(UPDATE_OPS_COLLECTION, update_moving_variance)\n",
    "\n",
    "    mean, variance = control_flow_ops.cond(\n",
    "        is_training, lambda: (mean, variance),\n",
    "        lambda: (moving_mean, moving_variance))\n",
    "\n",
    "    x = tf.nn.batch_normalization(x, mean, variance, beta, gamma, BN_EPSILON)\n",
    "    \n",
    "    return x\n",
    "\n",
    "def conv_bn_relu(x, filter_size, filter_num, stride_step=1, is_training=None):\n",
    "    res = conv(x, filter_size, filter_num, stride_step=stride_step)\n",
    "    with tf.device(\"/cpu:0\"):\n",
    "        tf.summary.histogram('pre_batch_normalization', res)\n",
    "    res = batch_norm(res, is_training)\n",
    "    with tf.device(\"/cpu:0\"):\n",
    "        tf.summary.histogram('pre_activations', res)\n",
    "    res = tf.nn.elu(res)\n",
    "    with tf.device(\"/cpu:0\"):\n",
    "        tf.summary.histogram('activations', res)\n",
    "    return res\n",
    "\n",
    "def inception(x, num_layer_1, num_layer_2, stride_step=1, is_training=None):\n",
    "    with tf.variable_scope('branch1x1'):\n",
    "        branch1x1 = conv_bn_relu(x, 1, num_layer_1, stride_step=stride_step, is_training=is_training)\n",
    "    with tf.variable_scope('branch3x3'):\n",
    "        branch3x3 = conv_bn_relu(x, 1, num_layer_1, is_training=is_training)\n",
    "        branch3x3 = conv_bn_relu(branch3x3, 3, num_layer_2, is_training=is_training)\n",
    "        branch3x3 = conv_bn_relu(branch3x3, 3, num_layer_2, stride_step=stride_step, is_training=is_training)\n",
    "    with tf.variable_scope('branch5x5'):\n",
    "        branch5x5 = conv_bn_relu(x, 1, num_layer_1, is_training=is_training)\n",
    "        branch5x5 = conv_bn_relu(branch5x5, 5, num_layer_2, stride_step=stride_step, is_training=is_training)\n",
    "    with tf.variable_scope('branch_pool'):\n",
    "        branch_pool = tf.nn.avg_pool(x, [1, 3, 3, 1], [1, 1, 1, 1], 'SAME')\n",
    "        branch_pool = conv_bn_relu(branch_pool, 1, num_layer_1, stride_step=stride_step, is_training=is_training)\n",
    "    return tf.concat([branch1x1, branch3x3, branch5x5, branch_pool], 3)\n",
    "\n",
    "class MyNet(object):\n",
    "    def model(self, x, is_training, keep_prob):\n",
    "        with tf.variable_scope('inception1'):\n",
    "            self.conv1 = inception(x, 16, 16, stride_step=2, is_training=is_training)\n",
    "    \n",
    "        with tf.variable_scope('inception2'):\n",
    "            self.conv2 = inception(self.conv1, 32, 32, stride_step=2, is_training=is_training)\n",
    "\n",
    "        with tf.variable_scope('inception3'):\n",
    "#             self.conv3 = inception(self.conv2, 64, 64, stride_step=2, is_training=is_training)\n",
    "            self.conv3 = tf.nn.max_pool(self.conv2, [1, 2, 2, 1], [1, 2, 2, 1], padding='SAME')\n",
    "\n",
    "        with tf.variable_scope('inception4'):\n",
    "            self.conv4 = inception(self.conv3, 64, 64, stride_step=2, is_training=is_training)\n",
    "\n",
    "        with tf.variable_scope('avg_pool'):\n",
    "            shape = self.conv4.get_shape().as_list()\n",
    "            self.final_pool = tf.nn.avg_pool(self.conv4, [1] + shape[1:3] + [1], [1] + shape[1:3] + [1], padding='VALID')\n",
    "            self.final_pool = tf.nn.dropout(self.final_pool, keep_prob=keep_prob)\n",
    "\n",
    "        with tf.variable_scope('fc'):\n",
    "            self.fc0 = flatten(self.final_pool)\n",
    "\n",
    "            logits = fc(self.fc0, 43)\n",
    "\n",
    "        return logits"
   ]
  },
  {
   "cell_type": "markdown",
   "metadata": {
    "deletable": true,
    "editable": true
   },
   "source": [
    "### Train, Validate and Test the Model"
   ]
  },
  {
   "cell_type": "markdown",
   "metadata": {
    "deletable": true,
    "editable": true
   },
   "source": [
    "A validation set can be used to assess how well the model is performing. A low accuracy on the training and validation\n",
    "sets imply underfitting. A high accuracy on the training set but low accuracy on the validation set implies overfitting."
   ]
  },
  {
   "cell_type": "code",
   "execution_count": 6,
   "metadata": {
    "collapsed": false,
    "deletable": true,
    "editable": true
   },
   "outputs": [],
   "source": [
    "learning_rate = 0.001\n",
    "gama = 0\n",
    "\n",
    "X = tf.placeholder(tf.float32, shape=(None, 32, 32, 3), name='X')\n",
    "y = tf.placeholder(tf.int32, shape=(None,), name='y')\n",
    "y_one_hot = tf.one_hot(y, n_classes, name='y_one_hot')\n",
    "global_step = tf.Variable(0, name='global_step', trainable=False)\n",
    "\n",
    "is_training = tf.placeholder(tf.bool, name='is_training')\n",
    "keep_prob = tf.placeholder(tf.float32, name='keep_prob')\n",
    "\n",
    "mynet = MyNet()\n",
    "logits = mynet.model(X, is_training, keep_prob)\n",
    "cross_entropy = tf.nn.softmax_cross_entropy_with_logits(logits=logits, labels=y_one_hot)\n",
    "regularization = sum([tf.nn.l2_loss(var)\n",
    "                      for var in tf.get_collection(tf.GraphKeys.GLOBAL_VARIABLES)\n",
    "                      if \"weights\" in var.name and \"Adam\" not in var.name])\n",
    "with tf.name_scope(\"cross_entropy\"):\n",
    "    loss_op = tf.reduce_mean(cross_entropy) + gama*regularization\n",
    "    tf.summary.scalar(\"cross_entropy\", loss_op)\n",
    "optimizer = tf.train.AdamOptimizer(learning_rate=learning_rate)\n",
    "\n",
    "# reference: https://github.com/ry/tensorflow-resnet/blob/master/resnet_train.py#L66\n",
    "batchnorm_updates = tf.get_collection(UPDATE_OPS_COLLECTION)\n",
    "batchnorm_updates_op = tf.group(*batchnorm_updates)\n",
    "train_op = tf.group(optimizer.minimize(loss_op, global_step=global_step), batchnorm_updates_op)"
   ]
  },
  {
   "cell_type": "code",
   "execution_count": null,
   "metadata": {
    "collapsed": false,
    "deletable": true,
    "editable": true
   },
   "outputs": [],
   "source": [
    "correct_prediction = tf.equal(tf.argmax(logits, 1), tf.argmax(y_one_hot, 1))\n",
    "accuracy_operation = tf.reduce_mean(tf.cast(correct_prediction, tf.float32))\n",
    "\n",
    "def evaluate(X_data, y_data):\n",
    "    num_examples = len(X_data)\n",
    "    total_accuracy = 0\n",
    "    sess = tf.get_default_session()\n",
    "    for offset in range(0, num_examples, BATCH_SIZE):\n",
    "        batch_x, batch_y = X_data[offset:offset+BATCH_SIZE], y_data[offset:offset+BATCH_SIZE]\n",
    "        accuracy = sess.run(accuracy_operation,\n",
    "                            feed_dict={X: batch_x, y: batch_y, is_training: False, keep_prob: 1.0})\n",
    "        total_accuracy += (accuracy * len(batch_x))\n",
    "    return total_accuracy / num_examples"
   ]
  },
  {
   "cell_type": "code",
   "execution_count": null,
   "metadata": {
    "collapsed": false,
    "deletable": true,
    "editable": true,
    "scrolled": false
   },
   "outputs": [
    {
     "name": "stdout",
     "output_type": "stream",
     "text": [
      "EPOCH 1 ...\n",
      "Validation Accuracy = 0.10045\n",
      "Train Accuracy = 0.10288\n",
      "Loss = 4.13783\n",
      "Time Duration of Training Epoch: 14.876 seconds\n",
      "Time Duration of Validation: 0.469 seconds\n",
      "Time Duration of Train Accuracy: 2.228 seconds\n",
      "\n",
      "EPOCH 11 ...\n",
      "Validation Accuracy = 0.09206\n",
      "Train Accuracy = 0.10555\n",
      "Loss = 0.06642\n",
      "Time Duration of Training Epoch: 13.681 seconds\n",
      "Time Duration of Validation: 0.289 seconds\n",
      "Time Duration of Train Accuracy: 2.247 seconds\n",
      "\n",
      "EPOCH 21 ...\n",
      "Validation Accuracy = 0.16757\n",
      "Train Accuracy = 0.18426\n",
      "Loss = 0.01539\n",
      "Time Duration of Training Epoch: 13.810 seconds\n",
      "Time Duration of Validation: 0.290 seconds\n",
      "Time Duration of Train Accuracy: 2.257 seconds\n",
      "\n",
      "EPOCH 31 ...\n",
      "Validation Accuracy = 0.32290\n",
      "Train Accuracy = 0.34159\n",
      "Loss = 0.00689\n",
      "Time Duration of Training Epoch: 13.795 seconds\n",
      "Time Duration of Validation: 0.288 seconds\n",
      "Time Duration of Train Accuracy: 2.253 seconds\n",
      "\n",
      "EPOCH 41 ...\n",
      "Validation Accuracy = 0.61610\n",
      "Train Accuracy = 0.67818\n",
      "Loss = 0.00441\n",
      "Time Duration of Training Epoch: 13.787 seconds\n",
      "Time Duration of Validation: 0.285 seconds\n",
      "Time Duration of Train Accuracy: 2.256 seconds\n",
      "\n",
      "EPOCH 51 ...\n",
      "Validation Accuracy = 0.69116\n",
      "Train Accuracy = 0.76416\n",
      "Loss = 0.00200\n",
      "Time Duration of Training Epoch: 13.814 seconds\n",
      "Time Duration of Validation: 0.286 seconds\n",
      "Time Duration of Train Accuracy: 2.233 seconds\n",
      "\n",
      "EPOCH 61 ...\n",
      "Validation Accuracy = 0.87506\n",
      "Train Accuracy = 0.96046\n",
      "Loss = 0.00646\n",
      "Time Duration of Training Epoch: 13.849 seconds\n",
      "Time Duration of Validation: 0.292 seconds\n",
      "Time Duration of Train Accuracy: 2.265 seconds\n",
      "\n",
      "EPOCH 71 ...\n",
      "Validation Accuracy = 0.90658\n",
      "Train Accuracy = 0.97115\n",
      "Loss = 0.00120\n",
      "Time Duration of Training Epoch: 13.885 seconds\n",
      "Time Duration of Validation: 0.289 seconds\n",
      "Time Duration of Train Accuracy: 2.262 seconds\n",
      "\n",
      "EPOCH 81 ...\n",
      "Validation Accuracy = 0.91587\n",
      "Train Accuracy = 0.99098\n",
      "Loss = 0.00190\n",
      "Time Duration of Training Epoch: 13.865 seconds\n",
      "Time Duration of Validation: 0.289 seconds\n",
      "Time Duration of Train Accuracy: 2.257 seconds\n",
      "\n",
      "EPOCH 91 ...\n",
      "Validation Accuracy = 0.93878\n",
      "Train Accuracy = 0.99615\n",
      "Loss = 0.00178\n",
      "Time Duration of Training Epoch: 13.875 seconds\n",
      "Time Duration of Validation: 0.290 seconds\n",
      "Time Duration of Train Accuracy: 2.254 seconds\n",
      "\n",
      "EPOCH 101 ...\n",
      "Validation Accuracy = 0.95374\n",
      "Train Accuracy = 0.99859\n",
      "Loss = 0.00049\n",
      "Time Duration of Training Epoch: 13.859 seconds\n",
      "Time Duration of Validation: 0.290 seconds\n",
      "Time Duration of Train Accuracy: 2.246 seconds\n",
      "\n"
     ]
    }
   ],
   "source": [
    "### Train your model here.\n",
    "### Calculate and report the accuracy on the training and validation set.\n",
    "### Once a final model architecture is selected, \n",
    "### the accuracy on the test set should be calculated and reported as well.\n",
    "### Feel free to use as many code cells as needed.\n",
    "from sklearn.model_selection import train_test_split\n",
    "from sklearn.utils import shuffle\n",
    "import time\n",
    "from datetime import datetime\n",
    "\n",
    "BATCH_SIZE = 512\n",
    "EPOCH_NUM = 200\n",
    "\n",
    "saver = tf.train.Saver()\n",
    "config = tf.ConfigProto(log_device_placement=True)\n",
    "\n",
    "logdir = './summaries/{0}'.format(datetime.now().isoformat())\n",
    "model_path = \"./inception-fine-tuned\"\n",
    "\n",
    "with tf.Session(config=config) as sess:\n",
    "    sess.run(tf.global_variables_initializer())\n",
    "\n",
    "    merged_summary = tf.summary.merge_all()\n",
    "    writer = tf.summary.FileWriter(logdir, sess.graph)\n",
    "    \n",
    "    losses = []\n",
    "    validation_accuracies = []\n",
    "    train_accuracies = []\n",
    "    for i in range(EPOCH_NUM):\n",
    "        X_train, y_train = shuffle(X_train, y_train)\n",
    "        loss_total = 0.\n",
    "        before_train = time.time()\n",
    "        for offset in range(0, n_train, BATCH_SIZE):\n",
    "            end = offset + BATCH_SIZE\n",
    "            X_batch, y_batch = X_train[offset:end], y_train[offset:end]\n",
    "            loss_batch, _ = sess.run([loss_op, train_op],\n",
    "                                      feed_dict={X: X_batch, y: y_batch, is_training: True, keep_prob: 0.4})\n",
    "            after = time.time()\n",
    "            loss_total += loss_batch * len(X_batch)\n",
    "        after_train = time.time()\n",
    "        \n",
    "        loss = loss_total / n_train\n",
    "        losses.append(loss)\n",
    "        \n",
    "        before_valid = time.time()\n",
    "        validation_accuracy = evaluate(X_valid, y_valid)\n",
    "        validation_accuracies.append(validation_accuracy)\n",
    "        after_valid = time.time()\n",
    "        \n",
    "        before_test = time.time()\n",
    "        train_accuracy = evaluate(X_train, y_train)\n",
    "        train_accuracies.append(train_accuracy)\n",
    "        after_test = time.time()\n",
    "        \n",
    "        if i % 10 == 0:\n",
    "            print(\"EPOCH {} ...\".format(i+1))\n",
    "            print(\"Validation Accuracy = {:.5f}\".format(validation_accuracy))\n",
    "            print(\"Train Accuracy = {:.5f}\".format(train_accuracy))\n",
    "            print(\"Loss = {:.5f}\".format(loss_total / n_train))\n",
    "            print(\"Time Duration of Training Epoch: {:.3f} seconds\".format(after_train - before_train))\n",
    "            print(\"Time Duration of Validation: {:.3f} seconds\".format(after_valid - before_valid))\n",
    "            print(\"Time Duration of Train Accuracy: {:.3f} seconds\".format(after_test - before_test))\n",
    "            print()\n",
    "\n",
    "        if i % 10 == 0:\n",
    "            saver.save(sess, \"{0}/traffic\".format(model_path), global_step=global_step)\n",
    "        \n",
    "        if validation_accuracy > 0.96:\n",
    "            print(\"Validation accuracy is {0} at epoch #{1}, stop training.\".format(validation_accuracy, i))\n",
    "            break\n",
    "        \n",
    "    saver.save(sess, \"{0}/traffic\".format(model_path), global_step=global_step)\n",
    "    print(\"Model saved.\")\n",
    "\n",
    "import os\n",
    "def write_backup(path, data):\n",
    "    with open(path, \"w\") as f:\n",
    "        for s in data:\n",
    "            f.write(str(s))\n",
    "            f.write(os.linesep)\n",
    "\n",
    "write_backup(\"{0}/losses.txt\".format(logdir), losses)\n",
    "plt.figure(1)\n",
    "plt.plot(range(len(losses)), losses, 'g')\n",
    "\n",
    "write_backup(\"{0}/validation_accuracies.txt\".format(logdir), validation_accuracies)\n",
    "write_backup(\"{0}/train_accuracies.txt\".format(logdir), train_accuracies)\n",
    "plt.figure(2)\n",
    "plt.plot(range(len(validation_accuracies)), validation_accuracies, 'b',\n",
    "         range(len(train_accuracies)), train_accuracies, 'r')"
   ]
  },
  {
   "cell_type": "code",
   "execution_count": null,
   "metadata": {
    "collapsed": false,
    "deletable": true,
    "editable": true,
    "scrolled": true
   },
   "outputs": [],
   "source": [
    "with tf.Session() as sess:\n",
    "    saver.restore(sess, tf.train.latest_checkpoint(model_path))\n",
    "\n",
    "    test_accuracy = evaluate(X_test, y_test)\n",
    "    print(\"Test Accuracy = {:.3f}\".format(test_accuracy))"
   ]
  },
  {
   "cell_type": "markdown",
   "metadata": {
    "deletable": true,
    "editable": true
   },
   "source": [
    "---\n",
    "\n",
    "## Step 3: Test a Model on New Images\n",
    "\n",
    "To give yourself more insight into how your model is working, download at least five pictures of German traffic signs from the web and use your model to predict the traffic sign type.\n",
    "\n",
    "You may find `signnames.csv` useful as it contains mappings from the class id (integer) to the actual sign name."
   ]
  },
  {
   "cell_type": "markdown",
   "metadata": {
    "deletable": true,
    "editable": true
   },
   "source": [
    "### Load and Output the Images"
   ]
  },
  {
   "cell_type": "code",
   "execution_count": null,
   "metadata": {
    "collapsed": false,
    "deletable": true,
    "editable": true,
    "scrolled": true
   },
   "outputs": [],
   "source": [
    "from PIL import Image\n",
    "\n",
    "images = [Image.open(\"./downloaded/{0}.jpg\".format(i)) for i in range(1, 6)]\n",
    "plt.figure(1, figsize=(20, 20))\n",
    "for i, img in enumerate(images):\n",
    "    plt.subplot(1, 5, i+1)\n",
    "    plt.imshow(img)"
   ]
  },
  {
   "cell_type": "markdown",
   "metadata": {
    "deletable": true,
    "editable": true
   },
   "source": [
    "### Predict the Sign Type for Each Image"
   ]
  },
  {
   "cell_type": "code",
   "execution_count": null,
   "metadata": {
    "collapsed": false,
    "deletable": true,
    "editable": true
   },
   "outputs": [],
   "source": [
    "preprocessed_images = preprocess(np.array([np.asarray(img) for img in images]))"
   ]
  },
  {
   "cell_type": "code",
   "execution_count": null,
   "metadata": {
    "collapsed": false,
    "deletable": true,
    "editable": true
   },
   "outputs": [],
   "source": [
    "predicted = []\n",
    "with tf.Session() as sess:\n",
    "    saver.restore(sess, tf.train.latest_checkpoint(model_path))\n",
    "    for img in preprocessed_images:\n",
    "        img = np.expand_dims(img, 0)\n",
    "        probs = sess.run(logits, feed_dict={X: img, is_training: False, keep_prob: 1.0})\n",
    "        label = np.argmax(probs)\n",
    "        predicted.append(label)\n",
    "        print(\"Predicted result: \", sign_mapping[label])"
   ]
  },
  {
   "cell_type": "markdown",
   "metadata": {
    "deletable": true,
    "editable": true
   },
   "source": [
    "### Analyze Performance"
   ]
  },
  {
   "cell_type": "code",
   "execution_count": null,
   "metadata": {
    "collapsed": false,
    "deletable": true,
    "editable": true
   },
   "outputs": [],
   "source": [
    "### Calculate the accuracy for these 5 new images. \n",
    "### For example, if the model predicted 1 out of 5 signs correctly, it's 20% accurate on these new images.\n",
    "correct_labels = [1, 7, 16, 25, 27]\n",
    "accuracy = sum(map(lambda x: x[0] == x[1], zip(correct_labels, predicted)))\n",
    "print(\"The accuracy is {0}\".format(accuracy / len(correct_labels)))"
   ]
  },
  {
   "cell_type": "markdown",
   "metadata": {
    "deletable": true,
    "editable": true
   },
   "source": [
    "### Output Top 5 Softmax Probabilities For Each Image Found on the Web"
   ]
  },
  {
   "cell_type": "markdown",
   "metadata": {
    "deletable": true,
    "editable": true
   },
   "source": [
    "For each of the new images, print out the model's softmax probabilities to show the **certainty** of the model's predictions (limit the output to the top 5 probabilities for each image). [`tf.nn.top_k`](https://www.tensorflow.org/versions/r0.12/api_docs/python/nn.html#top_k) could prove helpful here. \n",
    "\n",
    "The example below demonstrates how tf.nn.top_k can be used to find the top k predictions for each image.\n",
    "\n",
    "`tf.nn.top_k` will return the values and indices (class ids) of the top k predictions. So if k=3, for each sign, it'll return the 3 largest probabilities (out of a possible 43) and the correspoding class ids.\n",
    "\n",
    "Take this numpy array as an example. The values in the array represent predictions. The array contains softmax probabilities for five candidate images with six possible classes. `tk.nn.top_k` is used to choose the three classes with the highest probability:\n",
    "\n",
    "```\n",
    "# (5, 6) array\n",
    "a = np.array([[ 0.24879643,  0.07032244,  0.12641572,  0.34763842,  0.07893497,\n",
    "         0.12789202],\n",
    "       [ 0.28086119,  0.27569815,  0.08594638,  0.0178669 ,  0.18063401,\n",
    "         0.15899337],\n",
    "       [ 0.26076848,  0.23664738,  0.08020603,  0.07001922,  0.1134371 ,\n",
    "         0.23892179],\n",
    "       [ 0.11943333,  0.29198961,  0.02605103,  0.26234032,  0.1351348 ,\n",
    "         0.16505091],\n",
    "       [ 0.09561176,  0.34396535,  0.0643941 ,  0.16240774,  0.24206137,\n",
    "         0.09155967]])\n",
    "```\n",
    "\n",
    "Running it through `sess.run(tf.nn.top_k(tf.constant(a), k=3))` produces:\n",
    "\n",
    "```\n",
    "TopKV2(values=array([[ 0.34763842,  0.24879643,  0.12789202],\n",
    "       [ 0.28086119,  0.27569815,  0.18063401],\n",
    "       [ 0.26076848,  0.23892179,  0.23664738],\n",
    "       [ 0.29198961,  0.26234032,  0.16505091],\n",
    "       [ 0.34396535,  0.24206137,  0.16240774]]), indices=array([[3, 0, 5],\n",
    "       [0, 1, 4],\n",
    "       [0, 5, 1],\n",
    "       [1, 3, 5],\n",
    "       [1, 4, 3]], dtype=int32))\n",
    "```\n",
    "\n",
    "Looking just at the first row we get `[ 0.34763842,  0.24879643,  0.12789202]`, you can confirm these are the 3 largest probabilities in `a`. You'll also notice `[3, 0, 5]` are the corresponding indices."
   ]
  },
  {
   "cell_type": "code",
   "execution_count": null,
   "metadata": {
    "collapsed": false,
    "deletable": true,
    "editable": true,
    "scrolled": false
   },
   "outputs": [],
   "source": [
    "with tf.Session() as sess:\n",
    "    saver.restore(sess, tf.train.latest_checkpoint(model_path))\n",
    "    plt.figure(1, figsize=(10, 10))\n",
    "    for i, img in enumerate(preprocessed_images):\n",
    "        exp_img = np.expand_dims(img, 0)\n",
    "        probs = sess.run(tf.nn.top_k(tf.nn.softmax(logits), 5), feed_dict={X: exp_img, is_training: False, keep_prob: 1.0})\n",
    "        plt.subplot(5, 2, 2*i + 1)\n",
    "        plt.imshow(images[i], vmin=-1, vmax=1)\n",
    "        plt.subplot(5, 2, 2*i + 2)\n",
    "        plt.barh(np.arange(5, 0, -1), probs[0][0])\n",
    "        plt.yticks(np.arange(5, 0, -1), [sign_mapping[n] for n in probs[1][0]])\n",
    "        plt.tight_layout()"
   ]
  },
  {
   "cell_type": "markdown",
   "metadata": {
    "deletable": true,
    "editable": true
   },
   "source": [
    "---\n",
    "\n",
    "## Step 4: Visualize the Neural Network's State with Test Images\n",
    "\n",
    " This Section is not required to complete but acts as an additional excersise for understaning the output of a neural network's weights. While neural networks can be a great learning device they are often referred to as a black box. We can understand what the weights of a neural network look like better by plotting their feature maps. After successfully training your neural network you can see what it's feature maps look like by plotting the output of the network's weight layers in response to a test stimuli image. From these plotted feature maps, it's possible to see what characteristics of an image the network finds interesting. For a sign, maybe the inner network feature maps react with high activation to the sign's boundary outline or to the contrast in the sign's painted symbol.\n",
    "\n",
    " Provided for you below is the function code that allows you to get the visualization output of any tensorflow weight layer you want. The inputs to the function should be a stimuli image, one used during training or a new one you provided, and then the tensorflow variable name that represents the layer's state during the training process, for instance if you wanted to see what the [LeNet lab's](https://classroom.udacity.com/nanodegrees/nd013/parts/fbf77062-5703-404e-b60c-95b78b2f3f9e/modules/6df7ae49-c61c-4bb2-a23e-6527e69209ec/lessons/601ae704-1035-4287-8b11-e2c2716217ad/concepts/d4aca031-508f-4e0b-b493-e7b706120f81) feature maps looked like for it's second convolutional layer you could enter conv2 as the tf_activation variable.\n",
    "\n",
    "For an example of what feature map outputs look like, check out NVIDIA's results in their paper [End-to-End Deep Learning for Self-Driving Cars](https://devblogs.nvidia.com/parallelforall/deep-learning-self-driving-cars/) in the section Visualization of internal CNN State. NVIDIA was able to show that their network's inner weights had high activations to road boundary lines by comparing feature maps from an image with a clear path to one without. Try experimenting with a similar test to show that your trained network's weights are looking for interesting features, whether it's looking at differences in feature maps from images with or without a sign, or even what feature maps look like in a trained network vs a completely untrained one on the same sign image.\n",
    "\n",
    "<figure>\n",
    " <img src=\"visualize_cnn.png\" width=\"380\" alt=\"Combined Image\" />\n",
    " <figcaption>\n",
    " <p></p> \n",
    " <p style=\"text-align: center;\"> Your output should look something like this (above)</p> \n",
    " </figcaption>\n",
    "</figure>\n",
    " <p></p> \n"
   ]
  },
  {
   "cell_type": "code",
   "execution_count": null,
   "metadata": {
    "collapsed": true,
    "deletable": true,
    "editable": true
   },
   "outputs": [],
   "source": [
    "### Visualize your network's feature maps here.\n",
    "### Feel free to use as many code cells as needed.\n",
    "\n",
    "# image_input: the test image being fed into the network to produce the feature maps\n",
    "# tf_activation: should be a tf variable name used during your training procedure that represents the calculated state of a specific weight layer\n",
    "# activation_min/max: can be used to view the activation contrast in more detail, by default matplot sets min and max to the actual min and max values of the output\n",
    "# plt_num: used to plot out multiple different weight feature map sets on the same block, just extend the plt number for each new feature map entry\n",
    "\n",
    "def outputFeatureMap(image_input, tf_activation, activation_min=-1, activation_max=-1 ,plt_num=1, session=sess):\n",
    "    # Here make sure to preprocess your image_input in a way your network expects\n",
    "    # with size, normalization, ect if needed\n",
    "    # image_input =\n",
    "    # Note: x should be the same name as your network's tensorflow data placeholder variable\n",
    "    # If you get an error tf_activation is not defined it maybe having trouble accessing the variable from inside a function\n",
    "    activation = tf_activation.eval(session=session,feed_dict={X : image_input, is_training: False, keep_prob: 1.0})\n",
    "    featuremaps = activation.shape[3]\n",
    "    plt.figure(plt_num, figsize=(15,15))\n",
    "    for featuremap in range(min(featuremaps, 96)):\n",
    "        plt.subplot(12,8, featuremap+1) # sets the number of feature maps to show on each row and column\n",
    "        plt.title('FeatureMap ' + str(featuremap)) # displays the feature map number\n",
    "        if activation_min != -1 & activation_max != -1:\n",
    "            plt.imshow(activation[0,:,:, featuremap], interpolation=\"nearest\", vmin =activation_min, vmax=activation_max, cmap=\"gray\")\n",
    "        elif activation_max != -1:\n",
    "            plt.imshow(activation[0,:,:, featuremap], interpolation=\"nearest\", vmax=activation_max, cmap=\"gray\")\n",
    "        elif activation_min !=-1:\n",
    "            plt.imshow(activation[0,:,:, featuremap], interpolation=\"nearest\", vmin=activation_min, cmap=\"gray\")\n",
    "        else:\n",
    "            plt.imshow(activation[0,:,:, featuremap], interpolation=\"nearest\", cmap=\"gray\")"
   ]
  },
  {
   "cell_type": "code",
   "execution_count": null,
   "metadata": {
    "collapsed": false
   },
   "outputs": [],
   "source": [
    "with tf.Session() as sess:\n",
    "    saver.restore(sess, tf.train.latest_checkpoint(model_path))\n",
    "    outputFeatureMap(np.array([X_train[100]]), mynet.conv1, session=sess)"
   ]
  },
  {
   "cell_type": "markdown",
   "metadata": {
    "deletable": true,
    "editable": true
   },
   "source": [
    "### Question 9\n",
    "\n",
    "Discuss how you used the visual output of your trained network's feature maps to show that it had learned to look for interesting characteristics in traffic sign images\n"
   ]
  },
  {
   "cell_type": "markdown",
   "metadata": {
    "deletable": true,
    "editable": true
   },
   "source": [
    "**Answer:**"
   ]
  },
  {
   "cell_type": "markdown",
   "metadata": {
    "deletable": true,
    "editable": true
   },
   "source": [
    "> **Note**: Once you have completed all of the code implementations and successfully answered each question above, you may finalize your work by exporting the iPython Notebook as an HTML document. You can do this by using the menu above and navigating to  \\n\",\n",
    "    \"**File -> Download as -> HTML (.html)**. Include the finished document along with this notebook as your submission."
   ]
  },
  {
   "cell_type": "markdown",
   "metadata": {
    "deletable": true,
    "editable": true
   },
   "source": [
    "### Project Writeup\n",
    "\n",
    "Once you have completed the code implementation, document your results in a project writeup using this [template](https://github.com/udacity/CarND-Traffic-Sign-Classifier-Project/blob/master/writeup_template.md) as a guide. The writeup can be in a markdown or pdf file. "
   ]
  }
 ],
 "metadata": {
  "anaconda-cloud": {},
  "kernelspec": {
   "display_name": "Python 3",
   "language": "python",
   "name": "python3"
  },
  "language_info": {
   "codemirror_mode": {
    "name": "ipython",
    "version": 3
   },
   "file_extension": ".py",
   "mimetype": "text/x-python",
   "name": "python",
   "nbconvert_exporter": "python",
   "pygments_lexer": "ipython3",
   "version": "3.4.3"
  },
  "widgets": {
   "state": {},
   "version": "1.1.2"
  }
 },
 "nbformat": 4,
 "nbformat_minor": 1
}
